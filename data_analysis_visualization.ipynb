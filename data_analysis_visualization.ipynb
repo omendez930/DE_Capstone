{
 "cells": [
  {
   "attachments": {},
   "cell_type": "markdown",
   "metadata": {},
   "source": [
    "Req 3"
   ]
  },
  {
   "cell_type": "code",
   "execution_count": 1,
   "metadata": {},
   "outputs": [],
   "source": [
    "import pandas as pd\n",
    "import numpy as np\n",
    "import seaborn as sns\n",
    "import matplotlib.pyplot as plt"
   ]
  },
  {
   "cell_type": "code",
   "execution_count": 2,
   "metadata": {},
   "outputs": [
    {
     "data": {
      "text/html": [
       "<div>\n",
       "<style scoped>\n",
       "    .dataframe tbody tr th:only-of-type {\n",
       "        vertical-align: middle;\n",
       "    }\n",
       "\n",
       "    .dataframe tbody tr th {\n",
       "        vertical-align: top;\n",
       "    }\n",
       "\n",
       "    .dataframe thead th {\n",
       "        text-align: right;\n",
       "    }\n",
       "</style>\n",
       "<table border=\"1\" class=\"dataframe\">\n",
       "  <thead>\n",
       "    <tr style=\"text-align: right;\">\n",
       "      <th></th>\n",
       "      <th>TRANSACTION_ID</th>\n",
       "      <th>DAY</th>\n",
       "      <th>MONTH</th>\n",
       "      <th>YEAR</th>\n",
       "      <th>CREDIT_CARD_NO</th>\n",
       "      <th>CUST_SSN</th>\n",
       "      <th>BRANCH_CODE</th>\n",
       "      <th>TRANSACTION_TYPE</th>\n",
       "      <th>TRANSACTION_VALUE</th>\n",
       "    </tr>\n",
       "  </thead>\n",
       "  <tbody>\n",
       "    <tr>\n",
       "      <th>0</th>\n",
       "      <td>1</td>\n",
       "      <td>14</td>\n",
       "      <td>2</td>\n",
       "      <td>2018</td>\n",
       "      <td>4210653349028689</td>\n",
       "      <td>123459988</td>\n",
       "      <td>114</td>\n",
       "      <td>Education</td>\n",
       "      <td>78.90</td>\n",
       "    </tr>\n",
       "    <tr>\n",
       "      <th>1</th>\n",
       "      <td>2</td>\n",
       "      <td>20</td>\n",
       "      <td>3</td>\n",
       "      <td>2018</td>\n",
       "      <td>4210653349028689</td>\n",
       "      <td>123459988</td>\n",
       "      <td>35</td>\n",
       "      <td>Entertainment</td>\n",
       "      <td>14.24</td>\n",
       "    </tr>\n",
       "    <tr>\n",
       "      <th>2</th>\n",
       "      <td>3</td>\n",
       "      <td>8</td>\n",
       "      <td>7</td>\n",
       "      <td>2018</td>\n",
       "      <td>4210653349028689</td>\n",
       "      <td>123459988</td>\n",
       "      <td>160</td>\n",
       "      <td>Grocery</td>\n",
       "      <td>56.70</td>\n",
       "    </tr>\n",
       "    <tr>\n",
       "      <th>3</th>\n",
       "      <td>4</td>\n",
       "      <td>19</td>\n",
       "      <td>4</td>\n",
       "      <td>2018</td>\n",
       "      <td>4210653349028689</td>\n",
       "      <td>123459988</td>\n",
       "      <td>114</td>\n",
       "      <td>Entertainment</td>\n",
       "      <td>59.73</td>\n",
       "    </tr>\n",
       "    <tr>\n",
       "      <th>4</th>\n",
       "      <td>5</td>\n",
       "      <td>10</td>\n",
       "      <td>10</td>\n",
       "      <td>2018</td>\n",
       "      <td>4210653349028689</td>\n",
       "      <td>123459988</td>\n",
       "      <td>93</td>\n",
       "      <td>Gas</td>\n",
       "      <td>3.59</td>\n",
       "    </tr>\n",
       "    <tr>\n",
       "      <th>...</th>\n",
       "      <td>...</td>\n",
       "      <td>...</td>\n",
       "      <td>...</td>\n",
       "      <td>...</td>\n",
       "      <td>...</td>\n",
       "      <td>...</td>\n",
       "      <td>...</td>\n",
       "      <td>...</td>\n",
       "      <td>...</td>\n",
       "    </tr>\n",
       "    <tr>\n",
       "      <th>46689</th>\n",
       "      <td>46690</td>\n",
       "      <td>12</td>\n",
       "      <td>9</td>\n",
       "      <td>2018</td>\n",
       "      <td>4210653344660822</td>\n",
       "      <td>123451007</td>\n",
       "      <td>49</td>\n",
       "      <td>Gas</td>\n",
       "      <td>66.20</td>\n",
       "    </tr>\n",
       "    <tr>\n",
       "      <th>46690</th>\n",
       "      <td>46691</td>\n",
       "      <td>5</td>\n",
       "      <td>2</td>\n",
       "      <td>2018</td>\n",
       "      <td>4210653344660822</td>\n",
       "      <td>123451007</td>\n",
       "      <td>168</td>\n",
       "      <td>Grocery</td>\n",
       "      <td>100.13</td>\n",
       "    </tr>\n",
       "    <tr>\n",
       "      <th>46691</th>\n",
       "      <td>46692</td>\n",
       "      <td>16</td>\n",
       "      <td>12</td>\n",
       "      <td>2018</td>\n",
       "      <td>4210653344660822</td>\n",
       "      <td>123451007</td>\n",
       "      <td>104</td>\n",
       "      <td>Test</td>\n",
       "      <td>35.83</td>\n",
       "    </tr>\n",
       "    <tr>\n",
       "      <th>46692</th>\n",
       "      <td>46693</td>\n",
       "      <td>15</td>\n",
       "      <td>1</td>\n",
       "      <td>2018</td>\n",
       "      <td>4210653344660822</td>\n",
       "      <td>123451007</td>\n",
       "      <td>32</td>\n",
       "      <td>Entertainment</td>\n",
       "      <td>90.99</td>\n",
       "    </tr>\n",
       "    <tr>\n",
       "      <th>46693</th>\n",
       "      <td>46694</td>\n",
       "      <td>17</td>\n",
       "      <td>11</td>\n",
       "      <td>2018</td>\n",
       "      <td>4210653344660822</td>\n",
       "      <td>123451007</td>\n",
       "      <td>45</td>\n",
       "      <td>Healthcare</td>\n",
       "      <td>82.29</td>\n",
       "    </tr>\n",
       "  </tbody>\n",
       "</table>\n",
       "<p>46694 rows × 9 columns</p>\n",
       "</div>"
      ],
      "text/plain": [
       "       TRANSACTION_ID  DAY  MONTH  YEAR    CREDIT_CARD_NO   CUST_SSN  \\\n",
       "0                   1   14      2  2018  4210653349028689  123459988   \n",
       "1                   2   20      3  2018  4210653349028689  123459988   \n",
       "2                   3    8      7  2018  4210653349028689  123459988   \n",
       "3                   4   19      4  2018  4210653349028689  123459988   \n",
       "4                   5   10     10  2018  4210653349028689  123459988   \n",
       "...               ...  ...    ...   ...               ...        ...   \n",
       "46689           46690   12      9  2018  4210653344660822  123451007   \n",
       "46690           46691    5      2  2018  4210653344660822  123451007   \n",
       "46691           46692   16     12  2018  4210653344660822  123451007   \n",
       "46692           46693   15      1  2018  4210653344660822  123451007   \n",
       "46693           46694   17     11  2018  4210653344660822  123451007   \n",
       "\n",
       "       BRANCH_CODE TRANSACTION_TYPE  TRANSACTION_VALUE  \n",
       "0              114        Education              78.90  \n",
       "1               35    Entertainment              14.24  \n",
       "2              160          Grocery              56.70  \n",
       "3              114    Entertainment              59.73  \n",
       "4               93              Gas               3.59  \n",
       "...            ...              ...                ...  \n",
       "46689           49              Gas              66.20  \n",
       "46690          168          Grocery             100.13  \n",
       "46691          104             Test              35.83  \n",
       "46692           32    Entertainment              90.99  \n",
       "46693           45       Healthcare              82.29  \n",
       "\n",
       "[46694 rows x 9 columns]"
      ]
     },
     "execution_count": 2,
     "metadata": {},
     "output_type": "execute_result"
    }
   ],
   "source": [
    "#read the json file and save it to a vairable df\n",
    "df = pd.read_json('Credit Card Dataset\\cdw_sapp_credit.json', lines=True)\n",
    "df"
   ]
  },
  {
   "cell_type": "code",
   "execution_count": 3,
   "metadata": {},
   "outputs": [
    {
     "name": "stdout",
     "output_type": "stream",
     "text": [
      "<class 'pandas.core.frame.DataFrame'>\n",
      "RangeIndex: 46694 entries, 0 to 46693\n",
      "Data columns (total 9 columns):\n",
      " #   Column             Non-Null Count  Dtype  \n",
      "---  ------             --------------  -----  \n",
      " 0   TRANSACTION_ID     46694 non-null  int64  \n",
      " 1   DAY                46694 non-null  int64  \n",
      " 2   MONTH              46694 non-null  int64  \n",
      " 3   YEAR               46694 non-null  int64  \n",
      " 4   CREDIT_CARD_NO     46694 non-null  int64  \n",
      " 5   CUST_SSN           46694 non-null  int64  \n",
      " 6   BRANCH_CODE        46694 non-null  int64  \n",
      " 7   TRANSACTION_TYPE   46694 non-null  object \n",
      " 8   TRANSACTION_VALUE  46694 non-null  float64\n",
      "dtypes: float64(1), int64(7), object(1)\n",
      "memory usage: 3.2+ MB\n"
     ]
    }
   ],
   "source": [
    "#printing just to see the data type \n",
    "df.info()"
   ]
  },
  {
   "cell_type": "code",
   "execution_count": 4,
   "metadata": {},
   "outputs": [
    {
     "data": {
      "text/plain": [
       "TRANSACTION_TYPE\n",
       "Bills            6861\n",
       "Healthcare       6723\n",
       "Test             6683\n",
       "Education        6638\n",
       "Entertainment    6635\n",
       "Gas              6605\n",
       "Grocery          6549\n",
       "Name: count, dtype: int64"
      ]
     },
     "execution_count": 4,
     "metadata": {},
     "output_type": "execute_result"
    }
   ],
   "source": [
    "#group transaction type and calculate the amount of occurences\n",
    "transaction_rate = df[\"TRANSACTION_TYPE\"].value_counts()\n",
    "transaction_rate"
   ]
  },
  {
   "cell_type": "code",
   "execution_count": 5,
   "metadata": {},
   "outputs": [
    {
     "data": {
      "text/plain": [
       "Index(['Bills', 'Healthcare', 'Test', 'Education', 'Entertainment', 'Gas',\n",
       "       'Grocery'],\n",
       "      dtype='object', name='TRANSACTION_TYPE')"
      ]
     },
     "execution_count": 5,
     "metadata": {},
     "output_type": "execute_result"
    }
   ],
   "source": [
    "#Sort transaction type based on count in descending order\n",
    "sorted_transaction_types = transaction_rate.index\n",
    "sorted_transaction_types"
   ]
  },
  {
   "cell_type": "code",
   "execution_count": 6,
   "metadata": {},
   "outputs": [
    {
     "data": {
      "image/png": "[encoded data removed]",
      "text/plain": [
       "<Figure size 1000x600 with 1 Axes>"
      ]
     },
     "metadata": {},
     "output_type": "display_data"
    }
   ],
   "source": [
    "#Plot the transaction types and their counts\n",
    "transaction_rate.plot(kind='bar',color='green',x=sorted_transaction_types,y=transaction_rate,figsize=(10,6))\n",
    "plt.xlabel('Type of transaction')\n",
    "plt.ylabel('Number of transacitons')\n",
    "plt.title('Fig 3.1 Transaction by type')\n",
    "plt.show()"
   ]
  },
  {
   "cell_type": "code",
   "execution_count": 7,
   "metadata": {},
   "outputs": [
    {
     "data": {
      "text/html": [
       "<div>\n",
       "<style scoped>\n",
       "    .dataframe tbody tr th:only-of-type {\n",
       "        vertical-align: middle;\n",
       "    }\n",
       "\n",
       "    .dataframe tbody tr th {\n",
       "        vertical-align: top;\n",
       "    }\n",
       "\n",
       "    .dataframe thead th {\n",
       "        text-align: right;\n",
       "    }\n",
       "</style>\n",
       "<table border=\"1\" class=\"dataframe\">\n",
       "  <thead>\n",
       "    <tr style=\"text-align: right;\">\n",
       "      <th></th>\n",
       "      <th>FIRST_NAME</th>\n",
       "      <th>MIDDLE_NAME</th>\n",
       "      <th>LAST_NAME</th>\n",
       "      <th>SSN</th>\n",
       "      <th>CREDIT_CARD_NO</th>\n",
       "      <th>APT_NO</th>\n",
       "      <th>STREET_NAME</th>\n",
       "      <th>CUST_CITY</th>\n",
       "      <th>CUST_STATE</th>\n",
       "      <th>CUST_COUNTRY</th>\n",
       "      <th>CUST_ZIP</th>\n",
       "      <th>CUST_PHONE</th>\n",
       "      <th>CUST_EMAIL</th>\n",
       "      <th>LAST_UPDATED</th>\n",
       "    </tr>\n",
       "  </thead>\n",
       "  <tbody>\n",
       "    <tr>\n",
       "      <th>0</th>\n",
       "      <td>Alec</td>\n",
       "      <td>Wm</td>\n",
       "      <td>Hooper</td>\n",
       "      <td>123456100</td>\n",
       "      <td>4210653310061055</td>\n",
       "      <td>656</td>\n",
       "      <td>Main Street North</td>\n",
       "      <td>Natchez</td>\n",
       "      <td>MS</td>\n",
       "      <td>United States</td>\n",
       "      <td>39120</td>\n",
       "      <td>1237818</td>\n",
       "      <td>AHooper@example.com</td>\n",
       "      <td>2018-04-21T12:49:02.000-04:00</td>\n",
       "    </tr>\n",
       "    <tr>\n",
       "      <th>1</th>\n",
       "      <td>Etta</td>\n",
       "      <td>Brendan</td>\n",
       "      <td>Holman</td>\n",
       "      <td>123453023</td>\n",
       "      <td>4210653310102868</td>\n",
       "      <td>829</td>\n",
       "      <td>Redwood Drive</td>\n",
       "      <td>Wethersfield</td>\n",
       "      <td>CT</td>\n",
       "      <td>United States</td>\n",
       "      <td>6109</td>\n",
       "      <td>1238933</td>\n",
       "      <td>EHolman@example.com</td>\n",
       "      <td>2018-04-21T12:49:02.000-04:00</td>\n",
       "    </tr>\n",
       "    <tr>\n",
       "      <th>2</th>\n",
       "      <td>Wilber</td>\n",
       "      <td>Ezequiel</td>\n",
       "      <td>Dunham</td>\n",
       "      <td>123454487</td>\n",
       "      <td>4210653310116272</td>\n",
       "      <td>683</td>\n",
       "      <td>12th Street East</td>\n",
       "      <td>Huntley</td>\n",
       "      <td>IL</td>\n",
       "      <td>United States</td>\n",
       "      <td>60142</td>\n",
       "      <td>1243018</td>\n",
       "      <td>WDunham@example.com</td>\n",
       "      <td>2018-04-21T12:49:02.000-04:00</td>\n",
       "    </tr>\n",
       "    <tr>\n",
       "      <th>3</th>\n",
       "      <td>Eugenio</td>\n",
       "      <td>Trina</td>\n",
       "      <td>Hardy</td>\n",
       "      <td>123459758</td>\n",
       "      <td>4210653310195948</td>\n",
       "      <td>253</td>\n",
       "      <td>Country Club Road</td>\n",
       "      <td>NewBerlin</td>\n",
       "      <td>WI</td>\n",
       "      <td>United States</td>\n",
       "      <td>53151</td>\n",
       "      <td>1243215</td>\n",
       "      <td>EHardy@example.com</td>\n",
       "      <td>2018-04-21T12:49:02.000-04:00</td>\n",
       "    </tr>\n",
       "    <tr>\n",
       "      <th>4</th>\n",
       "      <td>Wilfred</td>\n",
       "      <td>May</td>\n",
       "      <td>Ayers</td>\n",
       "      <td>123454431</td>\n",
       "      <td>4210653310356919</td>\n",
       "      <td>301</td>\n",
       "      <td>Madison Street</td>\n",
       "      <td>ElPaso</td>\n",
       "      <td>TX</td>\n",
       "      <td>United States</td>\n",
       "      <td>79930</td>\n",
       "      <td>1242074</td>\n",
       "      <td>WAyers@example.com</td>\n",
       "      <td>2018-04-21T12:49:02.000-04:00</td>\n",
       "    </tr>\n",
       "    <tr>\n",
       "      <th>...</th>\n",
       "      <td>...</td>\n",
       "      <td>...</td>\n",
       "      <td>...</td>\n",
       "      <td>...</td>\n",
       "      <td>...</td>\n",
       "      <td>...</td>\n",
       "      <td>...</td>\n",
       "      <td>...</td>\n",
       "      <td>...</td>\n",
       "      <td>...</td>\n",
       "      <td>...</td>\n",
       "      <td>...</td>\n",
       "      <td>...</td>\n",
       "      <td>...</td>\n",
       "    </tr>\n",
       "    <tr>\n",
       "      <th>947</th>\n",
       "      <td>Freida</td>\n",
       "      <td>Jonah</td>\n",
       "      <td>Castle</td>\n",
       "      <td>123451589</td>\n",
       "      <td>4210653399559239</td>\n",
       "      <td>882</td>\n",
       "      <td>Main Street South</td>\n",
       "      <td>SiouxCity</td>\n",
       "      <td>IA</td>\n",
       "      <td>United States</td>\n",
       "      <td>51106</td>\n",
       "      <td>1238344</td>\n",
       "      <td>FCastle@example.com</td>\n",
       "      <td>2018-04-21T12:49:02.000-04:00</td>\n",
       "    </tr>\n",
       "    <tr>\n",
       "      <th>948</th>\n",
       "      <td>Fern</td>\n",
       "      <td>Aron</td>\n",
       "      <td>Block</td>\n",
       "      <td>123457088</td>\n",
       "      <td>4210653399650358</td>\n",
       "      <td>470</td>\n",
       "      <td>Glenwood Avenue</td>\n",
       "      <td>Summerville</td>\n",
       "      <td>SC</td>\n",
       "      <td>United States</td>\n",
       "      <td>29483</td>\n",
       "      <td>1240420</td>\n",
       "      <td>FBlock@example.com</td>\n",
       "      <td>2018-04-21T12:49:02.000-04:00</td>\n",
       "    </tr>\n",
       "    <tr>\n",
       "      <th>949</th>\n",
       "      <td>Dylan</td>\n",
       "      <td>Lucas</td>\n",
       "      <td>Pruitt</td>\n",
       "      <td>123453259</td>\n",
       "      <td>4210653399732638</td>\n",
       "      <td>405</td>\n",
       "      <td>Country Lane</td>\n",
       "      <td>Duluth</td>\n",
       "      <td>GA</td>\n",
       "      <td>United States</td>\n",
       "      <td>30096</td>\n",
       "      <td>1236149</td>\n",
       "      <td>DPruitt@example.com</td>\n",
       "      <td>2018-04-21T12:49:02.000-04:00</td>\n",
       "    </tr>\n",
       "    <tr>\n",
       "      <th>950</th>\n",
       "      <td>Emery</td>\n",
       "      <td>Susanna</td>\n",
       "      <td>Beatty</td>\n",
       "      <td>123454047</td>\n",
       "      <td>4210653399859149</td>\n",
       "      <td>15</td>\n",
       "      <td>8th Street</td>\n",
       "      <td>Rowlett</td>\n",
       "      <td>TX</td>\n",
       "      <td>United States</td>\n",
       "      <td>75088</td>\n",
       "      <td>1236886</td>\n",
       "      <td>EBeatty@example.com</td>\n",
       "      <td>2018-04-21T12:49:02.000-04:00</td>\n",
       "    </tr>\n",
       "    <tr>\n",
       "      <th>951</th>\n",
       "      <td>Phil</td>\n",
       "      <td>Jaime</td>\n",
       "      <td>Mullen</td>\n",
       "      <td>123454500</td>\n",
       "      <td>4210653399939240</td>\n",
       "      <td>67</td>\n",
       "      <td>Charles Street</td>\n",
       "      <td>SanLorenzo</td>\n",
       "      <td>CA</td>\n",
       "      <td>United States</td>\n",
       "      <td>94580</td>\n",
       "      <td>1237017</td>\n",
       "      <td>PMullen@example.com</td>\n",
       "      <td>2018-04-21T12:49:02.000-04:00</td>\n",
       "    </tr>\n",
       "  </tbody>\n",
       "</table>\n",
       "<p>952 rows × 14 columns</p>\n",
       "</div>"
      ],
      "text/plain": [
       "    FIRST_NAME MIDDLE_NAME LAST_NAME        SSN    CREDIT_CARD_NO  APT_NO  \\\n",
       "0         Alec          Wm    Hooper  123456100  4210653310061055     656   \n",
       "1         Etta     Brendan    Holman  123453023  4210653310102868     829   \n",
       "2       Wilber    Ezequiel    Dunham  123454487  4210653310116272     683   \n",
       "3      Eugenio       Trina     Hardy  123459758  4210653310195948     253   \n",
       "4      Wilfred         May     Ayers  123454431  4210653310356919     301   \n",
       "..         ...         ...       ...        ...               ...     ...   \n",
       "947     Freida       Jonah    Castle  123451589  4210653399559239     882   \n",
       "948       Fern        Aron     Block  123457088  4210653399650358     470   \n",
       "949      Dylan       Lucas    Pruitt  123453259  4210653399732638     405   \n",
       "950      Emery     Susanna    Beatty  123454047  4210653399859149      15   \n",
       "951       Phil       Jaime    Mullen  123454500  4210653399939240      67   \n",
       "\n",
       "           STREET_NAME     CUST_CITY CUST_STATE   CUST_COUNTRY  CUST_ZIP  \\\n",
       "0    Main Street North       Natchez         MS  United States     39120   \n",
       "1        Redwood Drive  Wethersfield         CT  United States      6109   \n",
       "2     12th Street East       Huntley         IL  United States     60142   \n",
       "3    Country Club Road     NewBerlin         WI  United States     53151   \n",
       "4       Madison Street        ElPaso         TX  United States     79930   \n",
       "..                 ...           ...        ...            ...       ...   \n",
       "947  Main Street South     SiouxCity         IA  United States     51106   \n",
       "948    Glenwood Avenue   Summerville         SC  United States     29483   \n",
       "949       Country Lane        Duluth         GA  United States     30096   \n",
       "950         8th Street       Rowlett         TX  United States     75088   \n",
       "951     Charles Street    SanLorenzo         CA  United States     94580   \n",
       "\n",
       "     CUST_PHONE           CUST_EMAIL                   LAST_UPDATED  \n",
       "0       1237818  AHooper@example.com  2018-04-21T12:49:02.000-04:00  \n",
       "1       1238933  EHolman@example.com  2018-04-21T12:49:02.000-04:00  \n",
       "2       1243018  WDunham@example.com  2018-04-21T12:49:02.000-04:00  \n",
       "3       1243215   EHardy@example.com  2018-04-21T12:49:02.000-04:00  \n",
       "4       1242074   WAyers@example.com  2018-04-21T12:49:02.000-04:00  \n",
       "..          ...                  ...                            ...  \n",
       "947     1238344  FCastle@example.com  2018-04-21T12:49:02.000-04:00  \n",
       "948     1240420   FBlock@example.com  2018-04-21T12:49:02.000-04:00  \n",
       "949     1236149  DPruitt@example.com  2018-04-21T12:49:02.000-04:00  \n",
       "950     1236886  EBeatty@example.com  2018-04-21T12:49:02.000-04:00  \n",
       "951     1237017  PMullen@example.com  2018-04-21T12:49:02.000-04:00  \n",
       "\n",
       "[952 rows x 14 columns]"
      ]
     },
     "execution_count": 7,
     "metadata": {},
     "output_type": "execute_result"
    }
   ],
   "source": [
    "c_df = pd.read_json('Credit Card Dataset\\cdw_sapp_custmer.json', lines=True)\n",
    "c_df"
   ]
  },
  {
   "cell_type": "code",
   "execution_count": 8,
   "metadata": {},
   "outputs": [
    {
     "data": {
      "text/plain": [
       "CUST_STATE\n",
       "NY    96\n",
       "GA    73\n",
       "PA    72\n",
       "FL    64\n",
       "IL    58\n",
       "NJ    53\n",
       "MD    50\n",
       "CA    45\n",
       "OH    44\n",
       "MI    44\n",
       "VA    39\n",
       "NC    37\n",
       "TX    33\n",
       "MA    33\n",
       "SC    30\n",
       "WI    29\n",
       "MN    28\n",
       "MS    24\n",
       "IA    21\n",
       "KY    17\n",
       "WA    16\n",
       "CT    14\n",
       "IN    13\n",
       "MT     9\n",
       "AR     5\n",
       "AL     5\n",
       "Name: count, dtype: int64"
      ]
     },
     "execution_count": 8,
     "metadata": {},
     "output_type": "execute_result"
    }
   ],
   "source": [
    "#Group data by state and calculate the count\n",
    "cust_count = c_df['CUST_STATE'].value_counts()\n",
    "cust_count"
   ]
  },
  {
   "cell_type": "code",
   "execution_count": 9,
   "metadata": {},
   "outputs": [
    {
     "data": {
      "text/plain": [
       "Index(['NY', 'GA', 'PA', 'FL', 'IL', 'NJ', 'MD', 'CA', 'OH', 'MI', 'VA', 'NC',\n",
       "       'TX', 'MA', 'SC', 'WI', 'MN', 'MS', 'IA', 'KY', 'WA', 'CT', 'IN', 'MT',\n",
       "       'AR', 'AL'],\n",
       "      dtype='object', name='CUST_STATE')"
      ]
     },
     "execution_count": 9,
     "metadata": {},
     "output_type": "execute_result"
    }
   ],
   "source": [
    "#sort the states based on count\n",
    "sorted_states = cust_count.index\n",
    "sorted_states"
   ]
  },
  {
   "cell_type": "code",
   "execution_count": 10,
   "metadata": {},
   "outputs": [
    {
     "data": {
      "image/png": "[encoded data removed]",
      "text/plain": [
       "<Figure size 1000x600 with 1 Axes>"
      ]
     },
     "metadata": {},
     "output_type": "display_data"
    }
   ],
   "source": [
    "cust_count.plot(kind='bar', x=sorted_states,y=cust_count,figsize=(10,6))\n",
    "plt.xlabel('States')\n",
    "plt.ylabel('Customers per state')\n",
    "plt.title('Fig 3.2 Customer count by state')\n",
    "plt.xticks(rotation=45)\n",
    "plt.show()"
   ]
  },
  {
   "cell_type": "code",
   "execution_count": 11,
   "metadata": {},
   "outputs": [
    {
     "data": {
      "text/plain": [
       "CUST_SSN\n",
       "123451007    2037.98\n",
       "123451012    4025.69\n",
       "123451037    2122.20\n",
       "123451041    1085.14\n",
       "123451068    2810.54\n",
       "              ...   \n",
       "123459940      96.27\n",
       "123459965    2152.70\n",
       "123459968     964.21\n",
       "123459978    3091.78\n",
       "123459988    4760.29\n",
       "Name: TRANSACTION_VALUE, Length: 952, dtype: float64"
      ]
     },
     "execution_count": 11,
     "metadata": {},
     "output_type": "execute_result"
    }
   ],
   "source": [
    "#group by customer ssn, and calculate the sum based of transations for each ssn\n",
    "cust_totals = df.groupby('CUST_SSN')['TRANSACTION_VALUE'].sum()\n",
    "cust_totals"
   ]
  },
  {
   "cell_type": "code",
   "execution_count": 12,
   "metadata": {},
   "outputs": [
    {
     "data": {
      "text/plain": [
       "CUST_SSN\n",
       "123451125    5633.07\n",
       "123452783    5548.14\n",
       "123453486    5476.08\n",
       "123458668    5314.97\n",
       "123456678    5261.03\n",
       "              ...   \n",
       "123455652      73.59\n",
       "123453375      73.08\n",
       "123459201      61.67\n",
       "123452345      10.41\n",
       "123451837       2.15\n",
       "Name: TRANSACTION_VALUE, Length: 952, dtype: float64"
      ]
     },
     "execution_count": 12,
     "metadata": {},
     "output_type": "execute_result"
    }
   ],
   "source": [
    "#Sort the values in cust_df in descending order\n",
    "sorted_customers = cust_totals.sort_values(ascending=False)\n",
    "sorted_customers"
   ]
  },
  {
   "cell_type": "code",
   "execution_count": 13,
   "metadata": {},
   "outputs": [
    {
     "data": {
      "text/plain": [
       "CUST_SSN\n",
       "123451125    5633.07\n",
       "123452783    5548.14\n",
       "123453486    5476.08\n",
       "123458668    5314.97\n",
       "123456678    5261.03\n",
       "123452026    5241.18\n",
       "123452518    5223.96\n",
       "123454933    5203.08\n",
       "123457547    5149.75\n",
       "123452085    5133.29\n",
       "Name: TRANSACTION_VALUE, dtype: float64"
      ]
     },
     "execution_count": 13,
     "metadata": {},
     "output_type": "execute_result"
    }
   ],
   "source": [
    "#sort the top 10 customers\n",
    "top_10 = sorted_customers.head(10)\n",
    "top_10"
   ]
  },
  {
   "cell_type": "code",
   "execution_count": 14,
   "metadata": {},
   "outputs": [
    {
     "data": {
      "text/plain": [
       "array([5633.07, 5548.14, 5476.08, 5314.97, 5261.03, 5241.18, 5223.96,\n",
       "       5203.08, 5149.75, 5133.29])"
      ]
     },
     "execution_count": 14,
     "metadata": {},
     "output_type": "execute_result"
    }
   ],
   "source": [
    "#checking if the values reflect the above results\n",
    "top_10_amount = top_10.values\n",
    "top_10_amount"
   ]
  },
  {
   "cell_type": "code",
   "execution_count": 15,
   "metadata": {},
   "outputs": [
    {
     "data": {
      "text/plain": [
       "Index([123451125, 123452783, 123453486, 123458668, 123456678, 123452026,\n",
       "       123452518, 123454933, 123457547, 123452085],\n",
       "      dtype='int64', name='CUST_SSN')"
      ]
     },
     "execution_count": 15,
     "metadata": {},
     "output_type": "execute_result"
    }
   ],
   "source": [
    "#checking if the index reflect the above results\n",
    "top_10_cust = top_10.index\n",
    "top_10_cust"
   ]
  },
  {
   "cell_type": "code",
   "execution_count": 16,
   "metadata": {},
   "outputs": [
    {
     "data": {
      "image/png": "[encoded data removed]",
      "text/plain": [
       "<Figure size 1000x600 with 1 Axes>"
      ]
     },
     "metadata": {},
     "output_type": "display_data"
    }
   ],
   "source": [
    "#plot the top 10 customers using the ssn provided\n",
    "top_10.plot(kind='bar', x=top_10.index, y=top_10.values, figsize=(10,6))\n",
    "\n",
    "plt.xlabel('Customers')\n",
    "plt.ylabel('Transaction Totals')\n",
    "plt.title('Fig 3.3 Total transactions for the top 10 customers')\n",
    "plt.xticks(rotation=45)\n",
    "plt.show()"
   ]
  },
  {
   "cell_type": "code",
   "execution_count": null,
   "metadata": {},
   "outputs": [],
   "source": []
  }
 ],
 "metadata": {
  "kernelspec": {
   "display_name": "Python 3",
   "language": "python",
   "name": "python3"
  },
  "language_info": {
   "codemirror_mode": {
    "name": "ipython",
    "version": 3
   },
   "file_extension": ".py",
   "mimetype": "text/x-python",
   "name": "python",
   "nbconvert_exporter": "python",
   "pygments_lexer": "ipython3",
   "version": "3.10.10"
  },
  "orig_nbformat": 4
 },
 "nbformat": 4,
 "nbformat_minor": 2
}
