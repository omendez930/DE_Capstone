{
 "cells": [
  {
   "cell_type": "code",
   "execution_count": null,
   "metadata": {},
   "outputs": [],
   "source": [
    "pip install findspark"
   ]
  },
  {
   "cell_type": "code",
   "execution_count": null,
   "metadata": {},
   "outputs": [],
   "source": [
    "pip install requests"
   ]
  },
  {
   "cell_type": "code",
   "execution_count": 1,
   "metadata": {},
   "outputs": [],
   "source": [
    "import json\n",
    "import requests\n",
    "import findspark\n",
    "findspark.init()\n",
    "\n",
    "import pyspark\n",
    "from pyspark.sql import SparkSession\n",
    "\n",
    "from pyspark.sql.functions import concat, concat_ws, col, initcap, lower, substring, lit"
   ]
  },
  {
   "cell_type": "code",
   "execution_count": 2,
   "metadata": {},
   "outputs": [],
   "source": [
    "spark = SparkSession.builder.master(\"local[*]\").appName('CreditCardData').getOrCreate()"
   ]
  },
  {
   "cell_type": "code",
   "execution_count": 7,
   "metadata": {},
   "outputs": [
    {
     "name": "stdout",
     "output_type": "stream",
     "text": [
      "root\n",
      " |-- APT_NO: integer (nullable = true)\n",
      " |-- CREDIT_CARD_NO: long (nullable = true)\n",
      " |-- CUST_CITY: string (nullable = true)\n",
      " |-- CUST_COUNTRY: string (nullable = true)\n",
      " |-- CUST_EMAIL: string (nullable = true)\n",
      " |-- CUST_PHONE: string (nullable = true)\n",
      " |-- CUST_STATE: string (nullable = true)\n",
      " |-- CUST_ZIP: long (nullable = true)\n",
      " |-- FIRST_NAME: string (nullable = true)\n",
      " |-- LAST_NAME: string (nullable = true)\n",
      " |-- LAST_UPDATED: string (nullable = true)\n",
      " |-- MIDDLE_NAME: string (nullable = true)\n",
      " |-- SSN: long (nullable = true)\n",
      " |-- STREET_NAME: string (nullable = true)\n",
      "\n"
     ]
    }
   ],
   "source": [
    "from pyspark.sql.types import StructType,StructField, StringType,IntegerType,BooleanType,DoubleType,LongType\n",
    "schema = StructType([\n",
    "    StructField('APT_NO', IntegerType(), True),\n",
    "    StructField('CREDIT_CARD_NO',LongType(),True),\n",
    "    StructField('CUST_CITY',StringType(),True),\n",
    "    StructField('CUST_COUNTRY',StringType(),True),\n",
    "    StructField('CUST_EMAIL',StringType(),True),\n",
    "    StructField('CUST_PHONE',StringType(),True),\n",
    "    StructField('CUST_STATE',StringType(),True),\n",
    "    StructField('CUST_ZIP',LongType(),True),\n",
    "    StructField('FIRST_NAME', StringType(),True),\n",
    "    StructField('LAST_NAME',StringType(), True),\n",
    "    StructField('LAST_UPDATED', StringType(),True),\n",
    "    StructField('MIDDLE_NAME', StringType(),True),\n",
    "    StructField('SSN', LongType(), True),\n",
    "    StructField('STREET_NAME',StringType(),True),\n",
    "])\n",
    "df_with_schema = spark.read.schema(schema).json('Credit Card Dataset\\cdw_sapp_custmer.json')\n",
    "df_with_schema.printSchema()\n"
   ]
  },
  {
   "cell_type": "code",
   "execution_count": 3,
   "metadata": {},
   "outputs": [
    {
     "name": "stdout",
     "output_type": "stream",
     "text": [
      "root\n",
      " |-- APT_NO: string (nullable = true)\n",
      " |-- CREDIT_CARD_NO: string (nullable = true)\n",
      " |-- CUST_CITY: string (nullable = true)\n",
      " |-- CUST_COUNTRY: string (nullable = true)\n",
      " |-- CUST_EMAIL: string (nullable = true)\n",
      " |-- CUST_PHONE: long (nullable = true)\n",
      " |-- CUST_STATE: string (nullable = true)\n",
      " |-- CUST_ZIP: string (nullable = true)\n",
      " |-- FIRST_NAME: string (nullable = true)\n",
      " |-- LAST_NAME: string (nullable = true)\n",
      " |-- LAST_UPDATED: string (nullable = true)\n",
      " |-- MIDDLE_NAME: string (nullable = true)\n",
      " |-- SSN: long (nullable = true)\n",
      " |-- STREET_NAME: string (nullable = true)\n",
      "\n",
      "+---------+----------+-----------+---------+----------------+--------------------+------------+----------+-------------+--------+----------+--------------------+--------------------+\n",
      "|      SSN|FIRST_NAME|MIDDLE_NAME|LAST_NAME|  CREDIT_CARD_NO|  STREET_NAME_APT_NO|   CUST_CITY|CUST_STATE| CUST_COUNTRY|CUST_ZIP|CUST_PHONE|          CUST_EMAIL|        LAST_UPDATED|\n",
      "+---------+----------+-----------+---------+----------------+--------------------+------------+----------+-------------+--------+----------+--------------------+--------------------+\n",
      "|123456100|      Alec|         Wm|   Hooper|4210653310061055|Main Street North...|     Natchez|        MS|United States|   39120|   1237818| AHooper@example.com|2018-04-21T12:49:...|\n",
      "|123453023|      Etta|    Brendan|   Holman|4210653310102868|   Redwood Drive,829|Wethersfield|        CT|United States|   06109|   1238933| EHolman@example.com|2018-04-21T12:49:...|\n",
      "|123454487|    Wilber|   Ezequiel|   Dunham|4210653310116272|12th Street East,683|     Huntley|        IL|United States|   60142|   1243018| WDunham@example.com|2018-04-21T12:49:...|\n",
      "|123459758|   Eugenio|      Trina|    Hardy|4210653310195948|Country Club Road...|   NewBerlin|        WI|United States|   53151|   1243215|  EHardy@example.com|2018-04-21T12:49:...|\n",
      "|123454431|   Wilfred|        May|    Ayers|4210653310356919|  Madison Street,301|      ElPaso|        TX|United States|   79930|   1242074|  WAyers@example.com|2018-04-21T12:49:...|\n",
      "|123454202|      Beau|    Ambrose|  Woodard|4210653310395982|    Colonial Drive,3|NorthOlmsted|        OH|United States|   44070|   1242570|BWoodard@example.com|2018-04-21T12:49:...|\n",
      "|123451799|    Sheila|      Larry|     Kemp|4210653310400536|   Belmont Avenue,84|      Vienna|        VA|United States|   22180|   1239685|   SKemp@example.com|2018-04-21T12:49:...|\n",
      "|123453875|     Wendy|        Ora|   Hurley|4210653310459911|    Oxford Court,728|      Duarte|        CA|United States|   91010|   1238213| WHurley@example.com|2018-04-21T12:49:...|\n",
      "|123457511|      Alec|     Tracie|  Gilmore|4210653310773972|    Forest Street,81|      Owosso|        MI|United States|   48867|   1240689|AGilmore@example.com|2018-04-21T12:49:...|\n",
      "|123457464|    Barbra|    Mitchel|      Lau|4210653310794854|    Court Street,561|        Zion|        IL|United States|   60099|   1235222|    BLau@example.com|2018-04-21T12:49:...|\n",
      "|123457639|   Edmundo|      Denny|  Thomson|4210653310817373|   Cypress Court,622|  Youngstown|        OH|United States|   44512|   1241363|EThomson@example.com|2018-04-21T12:49:...|\n",
      "|123453242|      Elsa|   Isabelle|   Truong|4210653310844617| 8th Street West,924| Summerville|        SC|United States|   29483|   1236228| ETruong@example.com|2018-04-21T12:49:...|\n",
      "|123454339|     Homer|      Henry| Mckinney|4210653311015303|     East Avenue,611|      ElPaso|        TX|United States|   79930|   1238165|HMckinney@example...|2018-04-21T12:49:...|\n",
      "|123454537|      Rita|     Rickey|     Kidd|4210653311215039|        Route 44,680|      Fenton|        MI|United States|   48430|   1234730|   RKidd@example.com|2018-04-21T12:49:...|\n",
      "|123452373|    Amalia|  Heriberto|  Ballard|4210653311229354|    Warren Street,71|  Grandville|        MI|United States|   49418|   1242113|ABallard@example.com|2018-04-21T12:49:...|\n",
      "|123455343|     Patty|   Angelita|   Thomas|4210653311652836|    Jones Street,195|    YubaCity|        CA|United States|   95993|   1239888| PThomas@example.com|2018-04-21T12:49:...|\n",
      "|123451533|  Josefina|   Dorothea|   Morrow|4210653311707126|      New Street,500|   CapeCoral|        FL|United States|   33904|   1240158| JMorrow@example.com|2018-04-21T12:49:...|\n",
      "|123459278|    Nelson|  Jefferson|  Andrews|4210653311730764| Division Street,989|  Brookfield|        WI|United States|   53045|   1241408|NAndrews@example.com|2018-04-21T12:49:...|\n",
      "|123456915|    Miquel|     Maximo|Schneider|4210653311898082|    Maple Street,810|    Richmond|        VA|United States|   23223|   1238390|MSchneider@exampl...|2018-04-21T12:49:...|\n",
      "|123453807|    Parker|    Arnulfo|  Tidwell|4210653312021765|      Eagle Road,649| WestChester|        PA|United States|   19380|   1235067|PTidwell@example.com|2018-04-21T12:49:...|\n",
      "+---------+----------+-----------+---------+----------------+--------------------+------------+----------+-------------+--------+----------+--------------------+--------------------+\n",
      "only showing top 20 rows\n",
      "\n"
     ]
    }
   ],
   "source": [
    "cust_df = spark.read.json('Credit Card Dataset\\cdw_sapp_custmer.json')\n",
    "cust_df.printSchema() #print original schema for the Dataframe\n",
    "\n",
    "cust_df.createOrReplaceTempView('CDW_SAPP_CUSTOMER') #create a temp view of the customer table\n",
    "street = spark.sql('SELECT *, CONCAT(STREET_NAME,\",\",APT_NO) as STREET_NAME_APT_NO FROM CDW_SAPP_CUSTOMER ') #concatenates the street name and apt no\n",
    "#street.printSchema()\n",
    "#street.show()\n",
    "\n",
    "updated_address = street.select('SSN','FIRST_NAME','MIDDLE_NAME','LAST_NAME','CREDIT_CARD_NO','STREET_NAME_APT_NO','CUST_CITY','CUST_STATE','CUST_COUNTRY','CUST_ZIP','CUST_PHONE','CUST_EMAIL','LAST_UPDATED')\n",
    "#updated_address.printSchema()\n",
    "#updated_address.show()\n",
    "\n",
    "cust_phone = spark.sql('SELECT CONCAT(\"(\", SUBSTRING(CUST_PHONE, 1, 3), \")\", SUBSTRING(CUST_PHONE, 4, 3), \"-\", SUBSTRING(CUST_PHONE, 7, 4)) AS CUST_PHONE FROM  CDW_SAPP_CUSTOMER') #gets customers phone number\n",
    "#cust_phone.printSchema()\n",
    "#cust_phone.show()\n",
    "\n",
    "mid_name = spark.sql('SELECT *, LOWER(MIDDLE_NAME) AS MIDDLE_NAME FROM CDW_SAPP_CUSTOMER') #this query obtains the customers middle name and places it into a lower case format\n",
    "\n",
    "updated_cust_df = updated_address.select('SSN','FIRST_NAME','MIDDLE_NAME','LAST_NAME','CREDIT_CARD_NO','STREET_NAME_APT_NO','CUST_CITY','CUST_STATE','CUST_COUNTRY','CUST_ZIP','CUST_PHONE','CUST_EMAIL','LAST_UPDATED')\n",
    "#updated_cust_df.printSchema()\n",
    "updated_cust_df.show()"
   ]
  },
  {
   "cell_type": "code",
   "execution_count": null,
   "metadata": {},
   "outputs": [],
   "source": [
    "cust_df.printSchema()"
   ]
  },
  {
   "cell_type": "code",
   "execution_count": null,
   "metadata": {},
   "outputs": [],
   "source": [
    "# #mid_name = df_cdw_cust.select('*', lower(col('MIDDLE_NAME'))).show()\n",
    "# df_cust_apt = df_cdw_cust.withColumn('STREET_NAME,APT_NO',concat_ws(',',df_cdw_cust['STREET_NAME'],df_cdw_cust['APT_NO'])).alias(\"STREET_NAME,APT_NO\")\n",
    "# df_cust_apt.show(truncate=False)\n"
   ]
  },
  {
   "cell_type": "code",
   "execution_count": null,
   "metadata": {},
   "outputs": [],
   "source": [
    "spark.sql('SELECT *, LOWER(MIDDLE_NAME) AS MIDDLE_NAME FROM custtable').show()\n",
    "# df_cust_midName = df_cdw_cust.withColumn('MIDDLE_NAME',lower('MIDDLE_NAME'))\n",
    "# df_cust_midName.show()"
   ]
  },
  {
   "cell_type": "code",
   "execution_count": null,
   "metadata": {},
   "outputs": [],
   "source": [
    "# df_phone_number = df_cdw_cust.withColumn('CUST_PHONE', concat(lit('('),substring(df_cdw_cust['CUST_PHONE'],1,3),lit(')'),substring(df_cdw_cust['CUST_PHONE'],4,3),lit('-'), substring(df_cdw_cust['CUST_PHONE'],7,4)))\n",
    "\n",
    "# df_phone_number.show()\n",
    "spark.sql('SELECT CONCAT(\"(\", SUBSTRING(CUST_PHONE, 1, 3), \")\", SUBSTRING(CUST_PHONE, 4, 3), \"-\", SUBSTRING(CUST_PHONE, 7, 4)) AS CUST_PHONE FROM  custtable').show()"
   ]
  },
  {
   "cell_type": "code",
   "execution_count": null,
   "metadata": {},
   "outputs": [],
   "source": [
    "# new_df_cust = df_cust_apt.select(concat(df_cust_apt['STREET_NAME,APT_NO']),'SSN','FIRST_NAME','MIDDLE_NAME','LAST_NAME','CREDIT_CARD_NO','STREET_NAME,APT_NO','CUST_CITY','CUST_STATE','CUST_COUNTRY','CUST_ZIP','CUST_PHONE','CUST_EMAIL','LAST_UPDATED').show()\n",
    "# new_df_cust = df_cust_apt.select('SSN','FIRST_NAME','MIDDLE_NAME','LAST_NAME','CREDIT_CARD_NO','STREET_NAME,APT_NO','CUST_CITY','CUST_STATE','CUST_COUNTRY','CUST_ZIP','CUST_PHONE','CUST_EMAIL','LAST_UPDATED')\n",
    "# new_df_cust.show()"
   ]
  },
  {
   "cell_type": "code",
   "execution_count": 4,
   "metadata": {},
   "outputs": [
    {
     "name": "stdout",
     "output_type": "stream",
     "text": [
      "root\n",
      " |-- BRANCH_CODE: long (nullable = true)\n",
      " |-- CREDIT_CARD_NO: string (nullable = true)\n",
      " |-- CUST_SSN: long (nullable = true)\n",
      " |-- DAY: long (nullable = true)\n",
      " |-- MONTH: long (nullable = true)\n",
      " |-- TRANSACTION_ID: long (nullable = true)\n",
      " |-- TRANSACTION_TYPE: string (nullable = true)\n",
      " |-- TRANSACTION_VALUE: double (nullable = true)\n",
      " |-- YEAR: long (nullable = true)\n",
      "\n"
     ]
    }
   ],
   "source": [
    "cc_df = spark.read.json('Credit Card Dataset\\cdw_sapp_credit.json')\n",
    "cc_df.printSchema()\n",
    "# cc_df.createOrReplaceTempView('CDW_SAPP_CREDIT_CARD')\n",
    "# date = spark.sql('SELECT *, CONCAT(DAY,\"-\",MONTH,\"-\",YEAR) AS DAY_MONTH_YEAR FROM CDW_SAPP_CREDIT_CARD')\n",
    "# updated_cc_df = date.select('CREDIT_CARD_NO','DAY_MONTH_YEAR','CUST_SSN','BRANCH_CODE','TRANSACTION_TYPE','TRANSACTION_VALUE','TRANSACTION_ID')\n",
    "# #cc_phone= df_cdw_cc.select(concat_ws('-', df_cdw_cc['DAY'],df_cdw_cc['MONTH'],df_cdw_cc['YEAR']).alias('DAY,MONTH,YEAR'),'CREDIT_CARD_NO','CUST_SSN','BRANCH_CODE','TRANSACTION_TYPE','TRANSACTION_VALUE','TRANSACTION_ID')\n",
    "# #cc_phone.show()\n",
    "# updated_cc_df.printSchema()\n",
    "# updated_cc_df.show()"
   ]
  },
  {
   "cell_type": "code",
   "execution_count": null,
   "metadata": {},
   "outputs": [],
   "source": [
    "\n",
    "# newf_df_cc= df_cdw_cc.select(concat_ws('-', df_cdw_cc['DAY'],df_cdw_cc['MONTH'],df_cdw_cc['YEAR']).alias('DAY,MONTH,YEAR'),'CREDIT_CARD_NO','CUST_SSN','BRANCH_CODE','TRANSACTION_TYPE','TRANSACTION_VALUE','TRANSACTION_ID').show()\n",
    "\n",
    "#new_df_cc = df_cdw_cc.select(concat_ws('-',df_cdw_cc['DAY'],df_cdw_cc['MONTH'],df_cdw_cc['YEAR']).alias('DAY,MONTH,YEAR'), df_cdw_cc).show(truncate=False)\n",
    "\n",
    "#newf_df_cc = df_cdw_cc.withColumn('DAY,MONTH,YEAR', col('DAY'),col('MONTH'),col('YEAR')).show()"
   ]
  },
  {
   "cell_type": "code",
   "execution_count": null,
   "metadata": {},
   "outputs": [],
   "source": [
    "#date = df_cdw_cc.select(concat_ws('-', df_cdw_cc['DAY'],df_cdw_cc['MONTH'],df_cdw_cc['YEAR']).alias('DAY,MONTH,YEAR')).show()\n",
    "# newf_df_cc = df_cdw_cc.withColumn('DAY,MONTH,YEAR', col(date)).show()"
   ]
  },
  {
   "cell_type": "code",
   "execution_count": 5,
   "metadata": {},
   "outputs": [
    {
     "name": "stdout",
     "output_type": "stream",
     "text": [
      "root\n",
      " |-- BRANCH_CITY: string (nullable = true)\n",
      " |-- BRANCH_CODE: long (nullable = true)\n",
      " |-- BRANCH_NAME: string (nullable = true)\n",
      " |-- BRANCH_PHONE: string (nullable = true)\n",
      " |-- BRANCH_STATE: string (nullable = true)\n",
      " |-- BRANCH_STREET: string (nullable = true)\n",
      " |-- BRANCH_ZIP: long (nullable = true)\n",
      " |-- LAST_UPDATED: string (nullable = true)\n",
      "\n"
     ]
    }
   ],
   "source": [
    "\n",
    "branch_df = spark.read.json('Credit Card Dataset\\cdw_sapp_branch.json')\n",
    "branch_df.printSchema()\n",
    "# branch_df.createOrReplaceTempView('CDW_SAPP_BRANCH')\n",
    "\n",
    "# branch_phone = spark.sql('SELECT CONCAT(\"(\", SUBSTRING(BRANCH_PHONE, 1, 3), \")\", SUBSTRING(BRANCH_PHONE, 4, 3), \"-\", SUBSTRING(BRANCH_PHONE, 7, 4)) AS BRANCH_PHONE FROM  CDW_SAPP_BRANCH').show() #reformats branch number to (XXX)XXX-XXX \n",
    "# branch_zip = spark.sql('SELECT COALESCE(BRANCH_ZIP,99999) AS BRANCH_ZIP FROM CDW_SAPP_BRANCH') #Locates if any value is equal to Null and replaces it with 99999\n",
    "# # new_branch_df = branch_zip.select('BRANCH_CODE','BRANCH_NAME','BRANCH_STREET','BRANCH_CITY','BRANCH_STATE','BRANCH_ZIP','BRANCH_PHONE','LAST_UPDATED')\n",
    "# # new_branch_df.show()\n",
    "# updated_branch_df = new_branch_df.select('BRANCH_CODE','BRANCH_NAME','BRANCH_STREET','BRANCH_CITY','BRANCH_STATE','BRANCH_ZIP','BRANCH_PHONE','LAST_UPDATED')\n",
    "# updated_branch_df.printSchema()\n",
    "# updated_branch_df.show()"
   ]
  },
  {
   "cell_type": "code",
   "execution_count": null,
   "metadata": {},
   "outputs": [],
   "source": [
    "# df_branch_number = df_cdw_branch.withColumn('BRANCH_PHONE', concat(lit('('),substring(df_cdw_branch['BRANCH_PHONE'],1,3),lit(')'),substring(df_cdw_branch['BRANCH_PHONE'],4,3),lit('-'), substring(df_cdw_branch['BRANCH_PHONE'],7,4)))\n",
    "\n",
    "# df_branch_number.show(200)"
   ]
  },
  {
   "cell_type": "code",
   "execution_count": null,
   "metadata": {},
   "outputs": [],
   "source": [
    "#df_phone_number.select(\"BRANCH_ZIP\", df_phone_number.like(\"%Null%\")).show(100)\n",
    "spark.sql('SELECT COALESCE(BRANCH_ZIP,99999) AS BRANCH_ZIP FROM branchtable').show()"
   ]
  },
  {
   "cell_type": "code",
   "execution_count": 34,
   "metadata": {},
   "outputs": [],
   "source": [
    "spark.stop()"
   ]
  },
  {
   "cell_type": "code",
   "execution_count": null,
   "metadata": {},
   "outputs": [],
   "source": [
    "cust_df.write.format(\"jdbc\") \\\n",
    ".mode(\"append\") \\\n",
    ".option(\"url\", \"jdbc:mysql://localhost:3306/creditcad_capstone\") \\\n",
    ".option(\"dbtable\", \"TableName\") \\\n",
    ".option(\"user\", \"root\") \\\n",
    ".option(\"password\", \"password\") \\\n",
    ".save()"
   ]
  }
 ],
 "metadata": {
  "kernelspec": {
   "display_name": "Python 3",
   "language": "python",
   "name": "python3"
  },
  "language_info": {
   "codemirror_mode": {
    "name": "ipython",
    "version": 3
   },
   "file_extension": ".py",
   "mimetype": "text/x-python",
   "name": "python",
   "nbconvert_exporter": "python",
   "pygments_lexer": "ipython3",
   "version": "3.10.10"
  },
  "orig_nbformat": 4
 },
 "nbformat": 4,
 "nbformat_minor": 2
}
