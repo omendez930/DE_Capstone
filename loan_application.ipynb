{
 "cells": [
  {
   "cell_type": "code",
   "execution_count": 1,
   "metadata": {},
   "outputs": [
    {
     "name": "stdout",
     "output_type": "stream",
     "text": [
      "Using matplotlib backend: <object object at 0x00000159717E1880>\n"
     ]
    }
   ],
   "source": [
    "import requests\n",
    "import pandas as pd\n",
    "import matplotlib.pyplot as plt\n",
    "%matplotlib\n",
    "import seaborn as sns\n",
    "import findspark\n",
    "import json\n",
    "import findspark\n",
    "findspark.init()\n",
    "\n",
    "import pyspark\n",
    "from pyspark.sql import SparkSession"
   ]
  },
  {
   "cell_type": "code",
   "execution_count": 2,
   "metadata": {},
   "outputs": [
    {
     "name": "stdout",
     "output_type": "stream",
     "text": [
      "Status code: 200\n",
      "Loan data retrieved successfuly!\n",
      "Total loan applications: 511\n"
     ]
    }
   ],
   "source": [
    "url = 'https://raw.githubusercontent.com/platformps/LoanDataset/main/loan_data.json'\n",
    "\n",
    "try:\n",
    "    response = requests.get(url)\n",
    "    print(f'Status code: {response.status_code}')\n",
    "    data = response.json()\n",
    "except requests.exceptions.RequestException as e:\n",
    "    print(f'Error ocurred during API request: {e}')\n",
    "    \n",
    "    \n",
    "if data is not None:\n",
    "    print('Loan data retrieved successfuly!')\n",
    "    print(f'Total loan applications: {len(data)}')\n",
    "\n"
   ]
  },
  {
   "cell_type": "code",
   "execution_count": 6,
   "metadata": {},
   "outputs": [],
   "source": [
    "spark = SparkSession.builder.appName('LoanApplicationApp').getOrCreate()"
   ]
  },
  {
   "cell_type": "code",
   "execution_count": 7,
   "metadata": {},
   "outputs": [
    {
     "name": "stdout",
     "output_type": "stream",
     "text": [
      "+--------------+------------------+--------------+----------+------------+------+------+-------+-------------+-------------+\n",
      "|Application_ID|Application_Status|Credit_History|Dependents|   Education|Gender|Income|Married|Property_Area|Self_Employed|\n",
      "+--------------+------------------+--------------+----------+------------+------+------+-------+-------------+-------------+\n",
      "|      LP001002|                 Y|             1|         0|    Graduate|  Male|medium|     No|        Urban|           No|\n",
      "|      LP001003|                 N|             1|         1|    Graduate|  Male|medium|    Yes|        Rural|           No|\n",
      "|      LP001005|                 Y|             1|         0|    Graduate|  Male|   low|    Yes|        Urban|          Yes|\n",
      "|      LP001006|                 Y|             1|         0|Not Graduate|  Male|   low|    Yes|        Urban|           No|\n",
      "|      LP001008|                 Y|             1|         0|    Graduate|  Male|medium|     No|        Urban|           No|\n",
      "|      LP001011|                 Y|             1|         2|    Graduate|  Male|medium|    Yes|        Urban|          Yes|\n",
      "|      LP001013|                 Y|             1|         0|Not Graduate|  Male|   low|    Yes|        Urban|           No|\n",
      "|      LP001014|                 N|             0|        3+|    Graduate|  Male|   low|    Yes|    Semiurban|           No|\n",
      "|      LP001018|                 Y|             1|         2|    Graduate|  Male|medium|    Yes|        Urban|           No|\n",
      "|      LP001020|                 N|             1|         1|    Graduate|  Male|  high|    Yes|    Semiurban|           No|\n",
      "|      LP001024|                 Y|             1|         2|    Graduate|  Male|   low|    Yes|        Urban|           No|\n",
      "|      LP001028|                 Y|             1|         2|    Graduate|  Male|   low|    Yes|        Urban|           No|\n",
      "|      LP001029|                 N|             1|         0|    Graduate|  Male|   low|     No|        Rural|           No|\n",
      "|      LP001030|                 Y|             1|         2|    Graduate|  Male|   low|    Yes|        Urban|           No|\n",
      "|      LP001032|                 Y|             1|         0|    Graduate|  Male|medium|     No|        Urban|           No|\n",
      "|      LP001036|                 N|             0|         0|    Graduate|Female|   low|     No|        Urban|           No|\n",
      "|      LP001038|                 N|             1|         0|Not Graduate|  Male|medium|    Yes|        Rural|           No|\n",
      "|      LP001043|                 N|             0|         0|Not Graduate|  Male|medium|    Yes|        Urban|           No|\n",
      "|      LP001046|                 Y|             1|         1|    Graduate|  Male|medium|    Yes|        Urban|           No|\n",
      "|      LP001047|                 N|             0|         0|Not Graduate|  Male|   low|    Yes|    Semiurban|           No|\n",
      "+--------------+------------------+--------------+----------+------------+------+------+-------+-------------+-------------+\n",
      "only showing top 20 rows\n",
      "\n"
     ]
    }
   ],
   "source": [
    "loan_df = spark.read.json('loan_data.json')\n",
    "loan_df.show()"
   ]
  },
  {
   "cell_type": "code",
   "execution_count": 8,
   "metadata": {},
   "outputs": [],
   "source": [
    "loan_df.write.format(\"jdbc\") \\\n",
    ".mode(\"overwrite\") \\\n",
    ".option(\"url\", \"jdbc:mysql://localhost:3306/creditcard_capstone\") \\\n",
    ".option(\"dbtable\", \"creditcard_capstone.CDW_SAPP_loan_application\") \\\n",
    ".option(\"user\", \"root\") \\\n",
    ".option(\"password\", \"password\") \\\n",
    ".save()"
   ]
  },
  {
   "cell_type": "code",
   "execution_count": 8,
   "metadata": {},
   "outputs": [],
   "source": [
    "# Load the loan application data into a Pandas DataFrame\n",
    "loan_data = pd.read_json(\"loan_data.json\")\n",
    "\n",
    "self_employed_df = loan_data[loan_data['Self_Employed'] == 'Yes']\n",
    "\n"
   ]
  },
  {
   "cell_type": "code",
   "execution_count": 9,
   "metadata": {},
   "outputs": [],
   "source": [
    "approval_percentage = self_employed_df['Application_Status'].value_counts(normalize=True) * 100"
   ]
  },
  {
   "cell_type": "code",
   "execution_count": 10,
   "metadata": {},
   "outputs": [],
   "source": [
    "sns.barplot(x=approval_percentage.index, y=approval_percentage.values)\n",
    "plt.xlabel('Loan Approval')\n",
    "plt.ylabel('Percentage')\n",
    "plt.title('Fig-5.1 Percentage of Applications Approved for Self-Employed Applications')\n",
    "plt.show()"
   ]
  },
  {
   "cell_type": "code",
   "execution_count": 12,
   "metadata": {},
   "outputs": [],
   "source": [
    "#Selects only married mae applicants who were rejected\n",
    "rejected_df = loan_data[(loan_data['Married'] == 'Yes') & (loan_data['Gender'] == 'Male') & (loan_data['Application_Status'] == 'N')]"
   ]
  },
  {
   "cell_type": "code",
   "execution_count": 13,
   "metadata": {},
   "outputs": [],
   "source": [
    "#Calculate the percentage of rejected applications among married male applicants\n",
    "rejection_percentage = (rejected_df.shape[0] / loan_data[loan_data['Married'] == 'Yes'].shape[0])*100"
   ]
  },
  {
   "cell_type": "code",
   "execution_count": 14,
   "metadata": {},
   "outputs": [],
   "source": [
    "labels = ['Rejected','Approved']\n",
    "sizes = [rejection_percentage, 100 - rejection_percentage]\n",
    "\n",
    "plt.pie(sizes, labels=labels, autopct='%1.1f%%', startangle=90)\n",
    "plt.title('Fig-5.2 Percentage of Rejection for Married Applicants')\n",
    "plt.axis('equal')\n",
    "plt.show()"
   ]
  },
  {
   "cell_type": "code",
   "execution_count": 18,
   "metadata": {},
   "outputs": [
    {
     "data": {
      "text/html": [
       "<div>\n",
       "<style scoped>\n",
       "    .dataframe tbody tr th:only-of-type {\n",
       "        vertical-align: middle;\n",
       "    }\n",
       "\n",
       "    .dataframe tbody tr th {\n",
       "        vertical-align: top;\n",
       "    }\n",
       "\n",
       "    .dataframe thead th {\n",
       "        text-align: right;\n",
       "    }\n",
       "</style>\n",
       "<table border=\"1\" class=\"dataframe\">\n",
       "  <thead>\n",
       "    <tr style=\"text-align: right;\">\n",
       "      <th></th>\n",
       "      <th>TRANSACTION_ID</th>\n",
       "      <th>DAY</th>\n",
       "      <th>MONTH</th>\n",
       "      <th>YEAR</th>\n",
       "      <th>CREDIT_CARD_NO</th>\n",
       "      <th>CUST_SSN</th>\n",
       "      <th>BRANCH_CODE</th>\n",
       "      <th>TRANSACTION_TYPE</th>\n",
       "      <th>TRANSACTION_VALUE</th>\n",
       "    </tr>\n",
       "  </thead>\n",
       "  <tbody>\n",
       "    <tr>\n",
       "      <th>0</th>\n",
       "      <td>1</td>\n",
       "      <td>14</td>\n",
       "      <td>2</td>\n",
       "      <td>2018</td>\n",
       "      <td>4210653349028689</td>\n",
       "      <td>123459988</td>\n",
       "      <td>114</td>\n",
       "      <td>Education</td>\n",
       "      <td>78.90</td>\n",
       "    </tr>\n",
       "    <tr>\n",
       "      <th>1</th>\n",
       "      <td>2</td>\n",
       "      <td>20</td>\n",
       "      <td>3</td>\n",
       "      <td>2018</td>\n",
       "      <td>4210653349028689</td>\n",
       "      <td>123459988</td>\n",
       "      <td>35</td>\n",
       "      <td>Entertainment</td>\n",
       "      <td>14.24</td>\n",
       "    </tr>\n",
       "    <tr>\n",
       "      <th>2</th>\n",
       "      <td>3</td>\n",
       "      <td>8</td>\n",
       "      <td>7</td>\n",
       "      <td>2018</td>\n",
       "      <td>4210653349028689</td>\n",
       "      <td>123459988</td>\n",
       "      <td>160</td>\n",
       "      <td>Grocery</td>\n",
       "      <td>56.70</td>\n",
       "    </tr>\n",
       "    <tr>\n",
       "      <th>3</th>\n",
       "      <td>4</td>\n",
       "      <td>19</td>\n",
       "      <td>4</td>\n",
       "      <td>2018</td>\n",
       "      <td>4210653349028689</td>\n",
       "      <td>123459988</td>\n",
       "      <td>114</td>\n",
       "      <td>Entertainment</td>\n",
       "      <td>59.73</td>\n",
       "    </tr>\n",
       "    <tr>\n",
       "      <th>4</th>\n",
       "      <td>5</td>\n",
       "      <td>10</td>\n",
       "      <td>10</td>\n",
       "      <td>2018</td>\n",
       "      <td>4210653349028689</td>\n",
       "      <td>123459988</td>\n",
       "      <td>93</td>\n",
       "      <td>Gas</td>\n",
       "      <td>3.59</td>\n",
       "    </tr>\n",
       "    <tr>\n",
       "      <th>...</th>\n",
       "      <td>...</td>\n",
       "      <td>...</td>\n",
       "      <td>...</td>\n",
       "      <td>...</td>\n",
       "      <td>...</td>\n",
       "      <td>...</td>\n",
       "      <td>...</td>\n",
       "      <td>...</td>\n",
       "      <td>...</td>\n",
       "    </tr>\n",
       "    <tr>\n",
       "      <th>46689</th>\n",
       "      <td>46690</td>\n",
       "      <td>12</td>\n",
       "      <td>9</td>\n",
       "      <td>2018</td>\n",
       "      <td>4210653344660822</td>\n",
       "      <td>123451007</td>\n",
       "      <td>49</td>\n",
       "      <td>Gas</td>\n",
       "      <td>66.20</td>\n",
       "    </tr>\n",
       "    <tr>\n",
       "      <th>46690</th>\n",
       "      <td>46691</td>\n",
       "      <td>5</td>\n",
       "      <td>2</td>\n",
       "      <td>2018</td>\n",
       "      <td>4210653344660822</td>\n",
       "      <td>123451007</td>\n",
       "      <td>168</td>\n",
       "      <td>Grocery</td>\n",
       "      <td>100.13</td>\n",
       "    </tr>\n",
       "    <tr>\n",
       "      <th>46691</th>\n",
       "      <td>46692</td>\n",
       "      <td>16</td>\n",
       "      <td>12</td>\n",
       "      <td>2018</td>\n",
       "      <td>4210653344660822</td>\n",
       "      <td>123451007</td>\n",
       "      <td>104</td>\n",
       "      <td>Test</td>\n",
       "      <td>35.83</td>\n",
       "    </tr>\n",
       "    <tr>\n",
       "      <th>46692</th>\n",
       "      <td>46693</td>\n",
       "      <td>15</td>\n",
       "      <td>1</td>\n",
       "      <td>2018</td>\n",
       "      <td>4210653344660822</td>\n",
       "      <td>123451007</td>\n",
       "      <td>32</td>\n",
       "      <td>Entertainment</td>\n",
       "      <td>90.99</td>\n",
       "    </tr>\n",
       "    <tr>\n",
       "      <th>46693</th>\n",
       "      <td>46694</td>\n",
       "      <td>17</td>\n",
       "      <td>11</td>\n",
       "      <td>2018</td>\n",
       "      <td>4210653344660822</td>\n",
       "      <td>123451007</td>\n",
       "      <td>45</td>\n",
       "      <td>Healthcare</td>\n",
       "      <td>82.29</td>\n",
       "    </tr>\n",
       "  </tbody>\n",
       "</table>\n",
       "<p>46694 rows × 9 columns</p>\n",
       "</div>"
      ],
      "text/plain": [
       "       TRANSACTION_ID  DAY  MONTH  YEAR    CREDIT_CARD_NO   CUST_SSN  \\\n",
       "0                   1   14      2  2018  4210653349028689  123459988   \n",
       "1                   2   20      3  2018  4210653349028689  123459988   \n",
       "2                   3    8      7  2018  4210653349028689  123459988   \n",
       "3                   4   19      4  2018  4210653349028689  123459988   \n",
       "4                   5   10     10  2018  4210653349028689  123459988   \n",
       "...               ...  ...    ...   ...               ...        ...   \n",
       "46689           46690   12      9  2018  4210653344660822  123451007   \n",
       "46690           46691    5      2  2018  4210653344660822  123451007   \n",
       "46691           46692   16     12  2018  4210653344660822  123451007   \n",
       "46692           46693   15      1  2018  4210653344660822  123451007   \n",
       "46693           46694   17     11  2018  4210653344660822  123451007   \n",
       "\n",
       "       BRANCH_CODE TRANSACTION_TYPE  TRANSACTION_VALUE  \n",
       "0              114        Education              78.90  \n",
       "1               35    Entertainment              14.24  \n",
       "2              160          Grocery              56.70  \n",
       "3              114    Entertainment              59.73  \n",
       "4               93              Gas               3.59  \n",
       "...            ...              ...                ...  \n",
       "46689           49              Gas              66.20  \n",
       "46690          168          Grocery             100.13  \n",
       "46691          104             Test              35.83  \n",
       "46692           32    Entertainment              90.99  \n",
       "46693           45       Healthcare              82.29  \n",
       "\n",
       "[46694 rows x 9 columns]"
      ]
     },
     "execution_count": 18,
     "metadata": {},
     "output_type": "execute_result"
    }
   ],
   "source": [
    "cc_data = pd.read_json('Credit Card Dataset\\cdw_sapp_credit.json', lines=True)\n",
    "cc_data"
   ]
  },
  {
   "cell_type": "code",
   "execution_count": 23,
   "metadata": {},
   "outputs": [
    {
     "data": {
      "text/plain": [
       "MONTH\n",
       "1     196568.87\n",
       "2     201086.67\n",
       "3     196488.59\n",
       "4     194203.25\n",
       "5     201310.26\n",
       "6     195468.74\n",
       "7     201199.35\n",
       "8     196453.41\n",
       "9     196069.44\n",
       "10    202583.89\n",
       "11    200549.36\n",
       "12    201251.08\n",
       "Name: TRANSACTION_VALUE, dtype: float64"
      ]
     },
     "execution_count": 23,
     "metadata": {},
     "output_type": "execute_result"
    }
   ],
   "source": [
    "#group data by month and calculate the total transaction amount for each month\n",
    "monthly_data = cc_data.groupby(cc_data['MONTH'])['TRANSACTION_VALUE'].sum()\n",
    "monthly_data"
   ]
  },
  {
   "cell_type": "code",
   "execution_count": 28,
   "metadata": {},
   "outputs": [
    {
     "data": {
      "text/plain": [
       "MONTH\n",
       "10    202583.89\n",
       "5     201310.26\n",
       "12    201251.08\n",
       "Name: TRANSACTION_VALUE, dtype: float64"
      ]
     },
     "execution_count": 28,
     "metadata": {},
     "output_type": "execute_result"
    }
   ],
   "source": [
    "#sort monthly data in descending order ad select the top 3 months\n",
    "top_three_months = monthly_data.nlargest(3)\n",
    "top_three_months"
   ]
  },
  {
   "cell_type": "code",
   "execution_count": null,
   "metadata": {},
   "outputs": [],
   "source": [
    "top_three_months.plot(kind='bar')\n",
    "plt.xlabel('Month')\n",
    "plt.ylabel('Total Transaction Amount')\n",
    "plt.title('Fig 5.3 Top Three Months with Largest Transaction Data')\n",
    "plt.show()"
   ]
  }
 ],
 "metadata": {
  "kernelspec": {
   "display_name": "Python 3",
   "language": "python",
   "name": "python3"
  },
  "language_info": {
   "codemirror_mode": {
    "name": "ipython",
    "version": 3
   },
   "file_extension": ".py",
   "mimetype": "text/x-python",
   "name": "python",
   "nbconvert_exporter": "python",
   "pygments_lexer": "ipython3",
   "version": "3.10.10"
  },
  "orig_nbformat": 4
 },
 "nbformat": 4,
 "nbformat_minor": 2
}
